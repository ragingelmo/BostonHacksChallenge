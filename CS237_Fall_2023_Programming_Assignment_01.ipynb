{
  "cells": [
    {
      "cell_type": "markdown",
      "metadata": {
        "id": "view-in-github",
        "colab_type": "text"
      },
      "source": [
        "<a href=\"https://colab.research.google.com/github/ragingelmo/BostonHacksChallenge/blob/main/CS237_Fall_2023_Programming_Assignment_01.ipynb\" target=\"_parent\"><img src=\"https://colab.research.google.com/assets/colab-badge.svg\" alt=\"Open In Colab\"/></a>"
      ]
    },
    {
      "cell_type": "markdown",
      "metadata": {
        "id": "Ejq6YVEvm5KX"
      },
      "source": [
        "# CS237 - Fall 2023 - Programming Assignment 01\n",
        "## Due Thursday January 26th at midnight (1 minute after 11:59pm) in Gradescope\n",
        "\n",
        "In this first programming assignment you will become familiar with various methods of displaying the results of probability experiments graphically in Python.\n",
        "\n",
        "Submit your programming assingment by filling in this notebook with your solutions. A handout and a video guide on programming assignments are posted in Piazza Resources. Write all your code in this file, **be sure to click on Runtime-> Run all and verify that everything works as you intended**, and then upload the `ipynb` file to Gradescope.\n",
        "\n",
        "### Important notes\n",
        "   * Homeworks may be submitted up to 12 hours late with a 10% penalty.\n",
        "   * We will **not** accept any homework that is more than 12 hours late."
      ]
    },
    {
      "cell_type": "markdown",
      "metadata": {
        "id": "juHBYMuLonCN"
      },
      "source": [
        "### Warmup - Generating Random Numbers\n"
      ]
    },
    {
      "cell_type": "markdown",
      "metadata": {
        "id": "SB6-QOd8slrP"
      },
      "source": [
        "Go to https://docs.python.org/2/library/random.html and read about the random library. We will use the following two functions, which you should understand well before proceeding:"
      ]
    },
    {
      "cell_type": "code",
      "execution_count": 56,
      "metadata": {
        "id": "v6tttqodu8cG"
      },
      "outputs": [],
      "source": [
        "# Run this cell by clicking on the play button on the left to load the random library\n",
        "import random"
      ]
    },
    {
      "cell_type": "markdown",
      "metadata": {
        "id": "b41L9yF0vK6A"
      },
      "source": [
        "In the next cell we will use the function randint to generate integers between 1 and 59. To run the code, move the mouse cursor on the top of the cell and click on the play button on the left."
      ]
    },
    {
      "cell_type": "code",
      "execution_count": 57,
      "metadata": {
        "id": "aaNQoVR7ts3b",
        "colab": {
          "base_uri": "https://localhost:8080/"
        },
        "outputId": "39fdd834-c93f-4eed-dda0-527e277d2258"
      },
      "outputs": [
        {
          "output_type": "execute_result",
          "data": {
            "text/plain": [
              "30"
            ]
          },
          "metadata": {},
          "execution_count": 57
        }
      ],
      "source": [
        "# random.randint(a, b): returns a random integer N such that a <= N <= b.\n",
        "random.randint(1,59)"
      ]
    },
    {
      "cell_type": "markdown",
      "metadata": {
        "id": "1m0c-RGKvkkG"
      },
      "source": [
        "Next, we will use the funcion random to generate floatin point numbers in the half-closed interval [0.0, 1.0)."
      ]
    },
    {
      "cell_type": "code",
      "execution_count": 58,
      "metadata": {
        "id": "-ufQbkeTuTEO",
        "colab": {
          "base_uri": "https://localhost:8080/"
        },
        "outputId": "bd69b616-8ee8-4735-8abb-9e0b8760248f"
      },
      "outputs": [
        {
          "output_type": "execute_result",
          "data": {
            "text/plain": [
              "0.8370162340249674"
            ]
          },
          "metadata": {},
          "execution_count": 58
        }
      ],
      "source": [
        "import random\n",
        "# random.random(): return a random floating point number in the range [0.0, 1.0).\n",
        "random.random()\n"
      ]
    },
    {
      "cell_type": "markdown",
      "metadata": {
        "id": "ouVE_dBqCKtc"
      },
      "source": []
    },
    {
      "cell_type": "markdown",
      "metadata": {
        "id": "jPkld4wXrYTh"
      },
      "source": [
        "### Problem 1 - Lottery ticket generator\n",
        "\n",
        "Lottery is a game of chance where players purchase a ticket and select numbers. The outcome of the game is determined by probability, as the winning numbers are chosen randomly.\n",
        "\n",
        "Tiago needs your help to use `random.randint(a,b)` to write a function that will generate six random integers between 1 and 59 that he will use to become the next billionaire. Make sure that those numbers are distincts.\n",
        "\n",
        "Write your own code and use the comments to explain your approach."
      ]
    },
    {
      "cell_type": "code",
      "execution_count": 59,
      "metadata": {
        "id": "l2YRK61X1Nx8"
      },
      "outputs": [],
      "source": [
        "def ticket_generator():\n",
        "  # The function creates an array, x, with six \"slots\", and assigns a random integer value from 1 to 59 to each \"slot\" using random.randint\n",
        "  x = [random.randint(1,59),random.randint(1,59),random.randint(1,59),random.randint(1,59),random.randint(1,59),random.randint(1,59)]\n",
        "  return x"
      ]
    },
    {
      "cell_type": "markdown",
      "metadata": {
        "id": "960qaRpM143D"
      },
      "source": [
        "Run the code bellow to check if your function produces a valid output."
      ]
    },
    {
      "cell_type": "code",
      "execution_count": 60,
      "metadata": {
        "id": "rcjNdIWQ1OOe",
        "colab": {
          "base_uri": "https://localhost:8080/"
        },
        "outputId": "486f9982-cd60-484b-ba35-579bdf15ad59"
      },
      "outputs": [
        {
          "output_type": "stream",
          "name": "stdout",
          "text": [
            "The ticket is valid. Good luck!\n"
          ]
        }
      ],
      "source": [
        "# do not change the code bellow\n",
        "my_ticket = ticket_generator()\n",
        "def is_valid(input_ticket):\n",
        "  my_ticket = sorted(input_ticket)\n",
        "  for i in range(len(my_ticket)-1):\n",
        "    if my_ticket[i] >= my_ticket[i+1]:\n",
        "      return False\n",
        "  return True\n",
        "\n",
        "if is_valid(my_ticket):\n",
        "  print('The ticket is valid. Good luck!')\n",
        "else:\n",
        "  print('Invalid ticket')"
      ]
    },
    {
      "cell_type": "markdown",
      "metadata": {
        "id": "AiJvq0TJwH25"
      },
      "source": [
        "### Problem 2 - Coin tossing\n",
        "\n",
        "Coin tossing, also known as coin flipping, is a simple game of chance in which a coin is flipped into the air, and players guess or bet on which side will land facing up. The two sides of the coin are typically referred to as \"heads\" and \"tails.\" The outcome of a coin toss is determined by the laws of probability, as a fair coin has an equal chance of landing on either side. \n",
        "\n",
        "What happens when the coin is not fair? It means that the probability of one of the sides landing facing up is **NOT** equal to the probability of the other side. For example, if an unfair coin has a probability of 0.6 of landing on heads and a probability of 0.4 of landing on tails, it would be considered unfair because the chances of getting heads is higher.\n",
        "\n",
        "Tiago wants to simulate a coint being tossed multiple times. Given a probability p, write a function nextFlip(p) which uses the funcion random.random() to generate a random number $r$ and returns True if the $r < p$ (heads) or False if $r \\geq p$ (tails) "
      ]
    },
    {
      "cell_type": "code",
      "execution_count": 61,
      "metadata": {
        "id": "fktnxJAZ8mSK"
      },
      "outputs": [],
      "source": [
        "def next_flip(p):\n",
        "  # uses the funcion random.random() to generate a random number r \n",
        "  # if the r < p return True\n",
        "  # otherwise, if r >= p, return False\n",
        "  r = random.random()\n",
        "  if r<p:\n",
        "    return True;\n",
        "  return False"
      ]
    },
    {
      "cell_type": "markdown",
      "metadata": {
        "id": "7ygzVtOY9Bkj"
      },
      "source": [
        "Now, let N be a big number (larger than $10^5$). Write a function called coin_simulation(p, N) that will use next_flip(p) to toss a coin N times and return the amount of times heads and tails appeared. Use the comments to explain your approach."
      ]
    },
    {
      "cell_type": "code",
      "execution_count": 62,
      "metadata": {
        "id": "8UZsFVSy9n9W"
      },
      "outputs": [],
      "source": [
        "def coin_simulation(p,N):\n",
        "  heads = tails = 0\n",
        "  for x in range(N):\n",
        "    if next_flip(p) == True:\n",
        "      heads+=1;\n",
        "    else:\n",
        "      tails+=1;\n",
        "\n",
        "  # Use next_flip(p) to toss a coin\n",
        "  # Count how many times heads and tails appeared\n",
        "  # Return your solution as a list\n",
        "  return [heads,tails]"
      ]
    },
    {
      "cell_type": "markdown",
      "metadata": {
        "id": "gYmlNOLf_MLE"
      },
      "source": [
        "Run the code bellow to check if your function procudes the expected output. Try using p=0.4, p=0.5, and p=0.6 and N = $10^5$."
      ]
    },
    {
      "cell_type": "code",
      "execution_count": 63,
      "metadata": {
        "id": "2tsarlT2-rsh",
        "colab": {
          "base_uri": "https://localhost:8080/"
        },
        "outputId": "eef9cf7b-af87-4eb6-aa5d-149cda080163"
      },
      "outputs": [
        {
          "output_type": "stream",
          "name": "stdout",
          "text": [
            "A coin was tossed  1000  times\n",
            "heads occurred  310  times\n",
            "tails occurred  690  times\n"
          ]
        }
      ],
      "source": [
        "def coin_experiment(p,N):\n",
        "  total = coin_simulation(p,N)\n",
        "  print(\"A coin was tossed \",N,\" times\")\n",
        "  print(\"heads occurred \",total[0],\" times\")\n",
        "  print(\"tails occurred \",total[1],\" times\")\n",
        "\n",
        "coin_experiment(.3,1000)"
      ]
    },
    {
      "cell_type": "markdown",
      "metadata": {
        "id": "apadT1VMLN0t"
      },
      "source": [
        "It is time for submittion, I hope you had fun solving this assigment."
      ]
    }
  ],
  "metadata": {
    "colab": {
      "provenance": [],
      "include_colab_link": true
    },
    "kernelspec": {
      "display_name": "Python 3.10.4 64-bit",
      "language": "python",
      "name": "python3"
    },
    "language_info": {
      "name": "python",
      "version": "3.10.4"
    },
    "vscode": {
      "interpreter": {
        "hash": "aee8b7b246df8f9039afb4144a1f6fd8d2ca17a180786b69acc140d282b71a49"
      }
    }
  },
  "nbformat": 4,
  "nbformat_minor": 0
}